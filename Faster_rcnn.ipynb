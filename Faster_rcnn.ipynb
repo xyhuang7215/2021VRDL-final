{
  "cells": [
    {
      "cell_type": "markdown",
      "metadata": {
        "id": "view-in-github",
        "colab_type": "text"
      },
      "source": [
        "<a href=\"https://colab.research.google.com/github/xyhuang7215/2021VRDL-final/blob/main/Faster_rcnn.ipynb\" target=\"_parent\"><img src=\"https://colab.research.google.com/assets/colab-badge.svg\" alt=\"Open In Colab\"/></a>"
      ]
    },
    {
      "cell_type": "markdown",
      "metadata": {
        "id": "tJxJHruNLb7Y"
      },
      "source": [
        "<a href=\"https://colab.research.google.com/github/open-mmlab/mmdetection/blob/master/demo/MMDet_Tutorial.ipynb\" target=\"_parent\"><img src=\"https://colab.research.google.com/assets/colab-badge.svg\" alt=\"Open In Colab\"/></a>"
      ]
    },
    {
      "cell_type": "code",
      "execution_count": null,
      "metadata": {
        "id": "mQUMD9yZ80pU"
      },
      "outputs": [],
      "source": [
        "!nvidia-smi"
      ]
    },
    {
      "cell_type": "code",
      "execution_count": null,
      "metadata": {
        "id": "UHYpMarm9J9D"
      },
      "outputs": [],
      "source": [
        "!pip install mmcv-full -f https://download.openmmlab.com/mmcv/dist/cu111/torch1.10.0/index.html &> /dev/null\n",
        "!git clone https://github.com/open-mmlab/mmdetection.git &> /dev/null\n",
        "%cd mmdetection\n",
        "!pip install -r requirements/build.txt &> /dev/null\n",
        "!pip install \"git+https://github.com/open-mmlab/cocoapi.git#subdirectory=pycocotools\" &> /dev/null\n",
        "!pip install -v -e .  &> /dev/null"
      ]
    },
    {
      "cell_type": "code",
      "source": [
        "!mkdir ~/.kaggle\n",
        "!touch ~/.kaggle/kaggle.json\n",
        "\n",
        "api_token = {\"username\":\"\",\"key\":\"\"}\n",
        "\n",
        "import json\n",
        "\n",
        "with open('/root/.kaggle/kaggle.json', 'w') as file:\n",
        "    json.dump(api_token, file)\n",
        "\n",
        "!chmod 600 ~/.kaggle/kaggle.json\n",
        "\n",
        "!mkdir dataset\n",
        "%cd dataset\n",
        "!kaggle competitions download -c the-nature-conservancy-fisheries-monitoring\n",
        "!unzip train.zip &> /dev/null\n",
        "!unzip test_stg1.zip &> /dev/null\n",
        "!7z x ./test_stg2.7z &> /dev/null\n",
        "%cd .."
      ],
      "metadata": {
        "id": "PoMY1mrtkX6t"
      },
      "execution_count": null,
      "outputs": []
    },
    {
      "cell_type": "code",
      "source": [
        "!pip install gdown==4.2.0\n",
        "!gdown https://drive.google.com/drive/folders/10oIFqeDbVcF0zfKRwjat4z5eYr2Yrzd-? -O ./ --folder &> /dev/null"
      ],
      "metadata": {
        "id": "SyarQloclKHd"
      },
      "execution_count": null,
      "outputs": []
    },
    {
      "cell_type": "code",
      "source": [
        "# !mkdir checkpoints\n",
        "# !wget -c https://download.openmmlab.com/mmdetection/v2.0/faster_rcnn/faster_rcnn_r50_caffe_fpn_1x_coco/faster_rcnn_r50_caffe_fpn_1x_coco_bbox_mAP-0.378_20200504_180032-c5925ee5.pth \\\n",
        "#       -O checkpoints/pretrained.pth\n",
        "# !python tools/train.py final/detection.py"
      ],
      "metadata": {
        "id": "_8yQ6az2LY8z"
      },
      "execution_count": null,
      "outputs": []
    },
    {
      "cell_type": "code",
      "source": [
        "import csv\n",
        "import json\n",
        "import os\n",
        "import cv2\n",
        "from mmdet.apis import inference_detector, init_detector\n",
        "\n",
        "# Choose to use a config and initialize the detector\n",
        "config = 'final/detection.py'\n",
        "# Setup a checkpoint file to load\n",
        "checkpoint = 'final/epoch_12.pth'\n",
        "# initialize the detector\n",
        "model = init_detector(config, checkpoint, device='cuda:0')"
      ],
      "metadata": {
        "colab": {
          "base_uri": "https://localhost:8080/"
        },
        "id": "gIYlof8_wVHg",
        "outputId": "35477a3f-a1bd-40a3-8b97-16f7b24a51b6"
      },
      "execution_count": null,
      "outputs": [
        {
          "output_type": "stream",
          "name": "stdout",
          "text": [
            "load checkpoint from local path: final/epoch_12.pth\n"
          ]
        }
      ]
    },
    {
      "cell_type": "code",
      "source": [
        "def result_to_bbox(result):\n",
        "    for bbox in result:\n",
        "        if len(bbox) != 0 and bbox[0][-1] > 0.3:\n",
        "            return bbox[0]\n",
        "\n",
        "def save_crop_img(model, img_folder, target_folder):\n",
        "    for img in os.listdir(img_folder):\n",
        "        result = inference_detector(model, img_folder + img)\n",
        "        bbox = result_to_bbox(result)\n",
        "        image = cv2.imread(img_folder + img)\n",
        "        if bbox is not None:\n",
        "            x1, y1, x2, y2 = int(bbox[0]), int(bbox[1]), int(bbox[2]), int(bbox[3]), \n",
        "            image = image[y1:y2, x1:x2]\n",
        "        cv2.imwrite(target_folder + img, image)"
      ],
      "metadata": {
        "id": "bds5ezxnLSMl"
      },
      "execution_count": null,
      "outputs": []
    },
    {
      "cell_type": "code",
      "source": [
        "!mkdir train_crop\n",
        "!mkdir train_crop/ALB\n",
        "!mkdir train_crop/BET\n",
        "!mkdir train_crop/DOL\n",
        "!mkdir train_crop/LAG\n",
        "!mkdir train_crop/NoF\n",
        "!mkdir train_crop/OTHER\n",
        "!mkdir train_crop/SHARK\n",
        "!mkdir train_crop/YFT"
      ],
      "metadata": {
        "id": "gS26S59n7he8"
      },
      "execution_count": null,
      "outputs": []
    },
    {
      "cell_type": "code",
      "source": [
        "save_crop_img(model, 'dataset/train/ALB/', 'train_crop/ALB/')\n",
        "save_crop_img(model, 'dataset/train/BET/', 'train_crop/BET/')\n",
        "save_crop_img(model, 'dataset/train/DOL/', 'train_crop/DOL/')\n",
        "save_crop_img(model, 'dataset/train/LAG/', 'train_crop/LAG/')\n",
        "save_crop_img(model, 'dataset/train/NoF/', 'train_crop/NoF/')\n",
        "save_crop_img(model, 'dataset/train/OTHER/', 'train_crop/OTHER/')\n",
        "save_crop_img(model, 'dataset/train/SHARK/', 'train_crop/SHARK/')\n",
        "save_crop_img(model, 'dataset/train/YFT/', 'train_crop/YFT/')\n",
        "!zip -r train_crop.zip train_crop"
      ],
      "metadata": {
        "id": "G8y2k5w3-DAj"
      },
      "execution_count": null,
      "outputs": []
    },
    {
      "cell_type": "code",
      "source": [
        "!mkdir test_stg1\n",
        "!mkdir test_stg2"
      ],
      "metadata": {
        "id": "oXbZJEW9-b7W"
      },
      "execution_count": null,
      "outputs": []
    },
    {
      "cell_type": "code",
      "source": [
        "save_crop_img(model, 'dataset/test_stg2/', 'test_stg2/')\n",
        "save_crop_img(model, 'dataset/test_stg1/', 'test_stg1/')\n",
        "!zip -r test_stg1.zip test_stg1\n",
        "!zip -r test_stg2.zip test_stg2"
      ],
      "metadata": {
        "id": "Aj0lPjiuAmVn"
      },
      "execution_count": null,
      "outputs": []
    }
  ],
  "metadata": {
    "accelerator": "GPU",
    "colab": {
      "collapsed_sections": [],
      "name": "Faster-rcnn.ipynb",
      "provenance": [],
      "include_colab_link": true
    },
    "kernelspec": {
      "display_name": "Python 3",
      "language": "python",
      "name": "python3"
    },
    "language_info": {
      "codemirror_mode": {
        "name": "ipython",
        "version": 3
      },
      "file_extension": ".py",
      "mimetype": "text/x-python",
      "name": "python",
      "nbconvert_exporter": "python",
      "pygments_lexer": "ipython3",
      "version": "3.8.5"
    }
  },
  "nbformat": 4,
  "nbformat_minor": 0
}